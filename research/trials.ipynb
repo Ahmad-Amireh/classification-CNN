{
 "cells": [
  {
   "cell_type": "code",
   "execution_count": null,
   "metadata": {},
   "outputs": [],
   "source": []
  },
  {
   "cell_type": "code",
   "execution_count": null,
   "metadata": {},
   "outputs": [],
   "source": [
    "\n"
   ]
  },
  {
   "cell_type": "code",
   "execution_count": 1,
   "metadata": {},
   "outputs": [],
   "source": [
    "import os \n",
    "os.chdir(\"../\")\n"
   ]
  },
  {
   "cell_type": "code",
   "execution_count": 2,
   "metadata": {},
   "outputs": [
    {
     "name": "stdout",
     "output_type": "stream",
     "text": [
      "ahmad\n"
     ]
    }
   ],
   "source": [
    "print(\"ahmad\")"
   ]
  },
  {
   "cell_type": "code",
   "execution_count": 3,
   "metadata": {},
   "outputs": [
    {
     "data": {
      "text/plain": [
       "'c:\\\\Users\\\\aamer\\\\OneDrive\\\\Desktop\\\\Projects\\\\train2'"
      ]
     },
     "execution_count": 3,
     "metadata": {},
     "output_type": "execute_result"
    }
   ],
   "source": [
    "%pwd"
   ]
  },
  {
   "cell_type": "code",
   "execution_count": 4,
   "metadata": {},
   "outputs": [],
   "source": [
    "import CNNproject"
   ]
  },
  {
   "cell_type": "code",
   "execution_count": 11,
   "metadata": {},
   "outputs": [
    {
     "name": "stdout",
     "output_type": "stream",
     "text": [
      "['c:\\\\Users\\\\aamer\\\\miniconda3\\\\envs\\\\myenv\\\\python39.zip', 'c:\\\\Users\\\\aamer\\\\miniconda3\\\\envs\\\\myenv\\\\DLLs', 'c:\\\\Users\\\\aamer\\\\miniconda3\\\\envs\\\\myenv\\\\lib', 'c:\\\\Users\\\\aamer\\\\miniconda3\\\\envs\\\\myenv', '', 'c:\\\\Users\\\\aamer\\\\miniconda3\\\\envs\\\\myenv\\\\lib\\\\site-packages', 'c:\\\\Users\\\\aamer\\\\miniconda3\\\\envs\\\\myenv\\\\lib\\\\site-packages\\\\win32', 'c:\\\\Users\\\\aamer\\\\miniconda3\\\\envs\\\\myenv\\\\lib\\\\site-packages\\\\win32\\\\lib', 'c:\\\\Users\\\\aamer\\\\miniconda3\\\\envs\\\\myenv\\\\lib\\\\site-packages\\\\Pythonwin']\n"
     ]
    }
   ],
   "source": [
    "import sys\n",
    "print(sys.path)\n"
   ]
  },
  {
   "cell_type": "code",
   "execution_count": null,
   "metadata": {},
   "outputs": [],
   "source": []
  }
 ],
 "metadata": {
  "kernelspec": {
   "display_name": "myenv",
   "language": "python",
   "name": "python3"
  },
  "language_info": {
   "codemirror_mode": {
    "name": "ipython",
    "version": 3
   },
   "file_extension": ".py",
   "mimetype": "text/x-python",
   "name": "python",
   "nbconvert_exporter": "python",
   "pygments_lexer": "ipython3",
   "version": "3.9.21"
  }
 },
 "nbformat": 4,
 "nbformat_minor": 2
}
