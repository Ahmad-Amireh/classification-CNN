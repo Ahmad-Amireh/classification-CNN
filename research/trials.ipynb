{
 "cells": [
  {
   "cell_type": "code",
   "execution_count": null,
   "metadata": {},
   "outputs": [],
   "source": []
  },
  {
   "cell_type": "code",
   "execution_count": null,
   "metadata": {},
   "outputs": [],
   "source": [
    "\n"
   ]
  },
  {
   "cell_type": "code",
   "execution_count": 1,
   "metadata": {},
   "outputs": [],
   "source": [
    "import os \n",
    "os.chdir(\"../\")\n"
   ]
  },
  {
   "cell_type": "code",
   "execution_count": 2,
   "metadata": {},
   "outputs": [
    {
     "name": "stdout",
     "output_type": "stream",
     "text": [
      "ahmad\n"
     ]
    }
   ],
   "source": [
    "print(\"ahmad\")"
   ]
  },
  {
   "cell_type": "code",
   "execution_count": 3,
   "metadata": {},
   "outputs": [
    {
     "data": {
      "text/plain": [
       "'c:\\\\Users\\\\aamer\\\\OneDrive\\\\Desktop\\\\Projects\\\\train2'"
      ]
     },
     "execution_count": 3,
     "metadata": {},
     "output_type": "execute_result"
    }
   ],
   "source": [
    "%pwd"
   ]
  },
  {
   "cell_type": "code",
   "execution_count": 4,
   "metadata": {},
   "outputs": [],
   "source": [
    "import CNNproject"
   ]
  },
  {
   "cell_type": "code",
   "execution_count": 11,
   "metadata": {},
   "outputs": [
    {
     "name": "stdout",
     "output_type": "stream",
     "text": [
      "['c:\\\\Users\\\\aamer\\\\miniconda3\\\\envs\\\\myenv\\\\python39.zip', 'c:\\\\Users\\\\aamer\\\\miniconda3\\\\envs\\\\myenv\\\\DLLs', 'c:\\\\Users\\\\aamer\\\\miniconda3\\\\envs\\\\myenv\\\\lib', 'c:\\\\Users\\\\aamer\\\\miniconda3\\\\envs\\\\myenv', '', 'c:\\\\Users\\\\aamer\\\\miniconda3\\\\envs\\\\myenv\\\\lib\\\\site-packages', 'c:\\\\Users\\\\aamer\\\\miniconda3\\\\envs\\\\myenv\\\\lib\\\\site-packages\\\\win32', 'c:\\\\Users\\\\aamer\\\\miniconda3\\\\envs\\\\myenv\\\\lib\\\\site-packages\\\\win32\\\\lib', 'c:\\\\Users\\\\aamer\\\\miniconda3\\\\envs\\\\myenv\\\\lib\\\\site-packages\\\\Pythonwin']\n"
     ]
    }
   ],
   "source": [
    "import sys\n",
    "print(sys.path)\n"
   ]
  },
  {
   "cell_type": "code",
   "execution_count": null,
   "metadata": {},
   "outputs": [],
   "source": [
    "import tensorflow as tf \n",
    "\n",
    "is_augmentaion =False\n",
    "\n",
    "train_data_dir = \"artifacts/data_ingestion/Chicken-fecal-images\"\n",
    "\n",
    "datagenerator_kwargs = dict(rescale=1./255, validation_split=0.20)\n",
    "\n",
    "dataflow_kwargs = dict(\n",
    "    target_size=(224, 224),  # Resize images to 224x224\n",
    "    batch_size=32,  # Process images in batches of 32\n",
    "    interpolation=\"bilinear\"\n",
    ")\n",
    "\n",
    "valid_datagenerator = tf.keras.preprocessing.image.ImageDataGenerator(**datagenerator_kwargs) #preprocessing\n",
    "\n",
    "valid_generator = valid_datagenerator.flow_from_directory(\n",
    "    directory=train_data_dir,\n",
    "    subset=\"validation\",\n",
    "    shuffle=False,\n",
    "    **dataflow_kwargs\n",
    ")\n",
    "\n",
    "if  is_augmentaion:\n",
    "  train_datagenerator = tf.keras.preprocessing.image.ImageDataGenerator(\n",
    "  rotation_range=40,\n",
    "  horizontal_flip=True,\n",
    "  width_shift_range=0.2,\n",
    "  height_shift_range=0.2,\n",
    "  **datagenerator_kwargs)\n",
    "\n",
    "else : \n",
    "  train_datagenerator = valid_datagenerator\n",
    "# Display batch shape\n",
    "\n",
    "train_generator = train_datagenerator.flow_from_directory(\n",
    "    directory=train_data_dir,\n",
    "    subset=\"training\",\n",
    "    shuffle=True,\n",
    "    **dataflow_kwargs\n",
    ")\n",
    "\n",
    "\n",
    "for batch_images, batch_labels in valid_generator:\n",
    "    print(\"Batch image shape:\", batch_images.shape)\n",
    "    print(\"Batch label shape:\", batch_labels.shape)\n",
    "    print(valid_generator.class_indices)\n",
    "    break  # Print for only one batch\n",
    "\n",
    "print(\"*******\")\n",
    "for batch_images, batch_labels in train_generator:\n",
    "    print(\"Batch image shape:\", batch_images.shape)\n",
    "    print(\"Batch label shape:\", batch_labels.shape)\n",
    "    break  # Print for only one batc\n",
    "\n",
    "\n",
    "model = tf.keras.Sequential([\n",
    "    tf.keras.layers.Conv2D(32, (3,3), activation='relu', input_shape=(224, 224, 3)),\n",
    "    tf.keras.layers.MaxPooling2D(2,2),\n",
    "    tf.keras.layers.Flatten(),\n",
    "    tf.keras.layers.Dense(128, activation='relu'),\n",
    "    tf.keras.layers.Dense(2, activation='softmax')  # 2 classes\n",
    "])\n",
    "\n",
    "model.compile(optimizer=\"adam\", loss=\"categorical_crossentropy\", metrics=[\"accuracy\"])\n",
    "\n",
    "epochs = 10\n",
    "steps_per_epoch = train_generator.samples // train_generator.batch_size\n",
    "validation_steps = valid_generator.samples // valid_generator.batch_size\n",
    "callback_list = [tf.keras.callbacks.EarlyStopping(monitor=\"val_loss\", patience=3)]\n",
    "\n",
    "\n",
    "history = model.fit(\n",
    "    train_generator,\n",
    "    epochs=epochs,\n",
    "    steps_per_epoch=steps_per_epoch,\n",
    "    validation_data=valid_generator,\n",
    "    validation_steps=validation_steps,\n",
    "    callbacks=callback_list\n",
    ")"
   ]
  }
 ],
 "metadata": {
  "kernelspec": {
   "display_name": "myenv",
   "language": "python",
   "name": "python3"
  },
  "language_info": {
   "codemirror_mode": {
    "name": "ipython",
    "version": 3
   },
   "file_extension": ".py",
   "mimetype": "text/x-python",
   "name": "python",
   "nbconvert_exporter": "python",
   "pygments_lexer": "ipython3",
   "version": "3.9.21"
  }
 },
 "nbformat": 4,
 "nbformat_minor": 2
}
