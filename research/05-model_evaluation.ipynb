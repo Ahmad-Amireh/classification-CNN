{
 "cells": [
  {
   "cell_type": "code",
   "execution_count": 1,
   "metadata": {},
   "outputs": [],
   "source": [
    "import os "
   ]
  },
  {
   "cell_type": "code",
   "execution_count": 2,
   "metadata": {},
   "outputs": [
    {
     "data": {
      "text/plain": [
       "'c:\\\\Users\\\\aamer\\\\OneDrive\\\\Desktop\\\\Projects\\\\train2\\\\research'"
      ]
     },
     "execution_count": 2,
     "metadata": {},
     "output_type": "execute_result"
    }
   ],
   "source": [
    "%pwd"
   ]
  },
  {
   "cell_type": "code",
   "execution_count": 3,
   "metadata": {},
   "outputs": [],
   "source": [
    "os.chdir(\"../\")"
   ]
  },
  {
   "cell_type": "code",
   "execution_count": 4,
   "metadata": {},
   "outputs": [
    {
     "data": {
      "text/plain": [
       "'c:\\\\Users\\\\aamer\\\\OneDrive\\\\Desktop\\\\Projects\\\\train2'"
      ]
     },
     "execution_count": 4,
     "metadata": {},
     "output_type": "execute_result"
    }
   ],
   "source": [
    "%pwd"
   ]
  },
  {
   "cell_type": "code",
   "execution_count": 5,
   "metadata": {},
   "outputs": [],
   "source": [
    "import tensorflow as tf\n",
    "model = tf.keras.models.load_model(\"artifacts/training/model.h5\")"
   ]
  },
  {
   "cell_type": "code",
   "execution_count": 6,
   "metadata": {},
   "outputs": [],
   "source": [
    "from dataclasses import dataclass\n",
    "from pathlib import Path \n",
    "\n",
    "@dataclass(frozen= True)\n",
    "class EvaluationConfig:\n",
    "    path_of_model : Path\n",
    "    training_data : Path\n",
    "    test_data_info : Path\n",
    "    all_params : dict\n",
    "    params_image_size : list \n",
    "    params_batch_size : int "
   ]
  },
  {
   "cell_type": "code",
   "execution_count": 7,
   "metadata": {},
   "outputs": [],
   "source": [
    "from CNNproject.constants import *\n",
    "from CNNproject.utils.common import read_yaml, create_directories, save_json, load_bin\n"
   ]
  },
  {
   "cell_type": "code",
   "execution_count": null,
   "metadata": {},
   "outputs": [],
   "source": [
    "class ConfigurationManager: \n",
    "    def __init__ (self, config_file_path =CONFIG_YAML, params_file_path= PARMAS_YAML ):\n",
    "        self.config = read_yaml(config_file_path)\n",
    "        self.params = read_yaml(params_file_path)\n",
    "        create_directories([self.config.artifacts_root])\n",
    "\n",
    "    def get_evaluation_config (self) -> EvaluationConfig : \n",
    "        eval_config = EvaluationConfig (\n",
    "            path_of_model = Path(\"artifacts/training/model.h5\"),\n",
    "            training_data = Path(\"artifacts/data_ingestion/Chicken-fecal-images\"),\n",
    "            test_data_info = Path(\"artifacts/test_data/test_data.pkl\"),\n",
    "            all_params= self.params,\n",
    "            params_image_size= self.params.IMAGE_SIZE, \n",
    "            params_batch_size= self.params.BATCH_SIZE\n",
    "        )\n",
    "        \n",
    "        return eval_config"
   ]
  },
  {
   "cell_type": "code",
   "execution_count": 9,
   "metadata": {},
   "outputs": [],
   "source": [
    "from CNNproject.utils.common import load_bin\n",
    "\n",
    "class Evaluation: \n",
    "    def __init__(self, config: EvaluationConfig): \n",
    "        self.config = config \n",
    "        tf.config.run_functions_eagerly(True)\n",
    "\n",
    "    def _valid_generator(self):\n",
    "        file_path = self.config.test_data_info\n",
    "        test_data_info = load_bin(file_path)  # Load test data\n",
    "\n",
    "        dataflow_kwargs = dict(                                                 \n",
    "            target_size=self.config.params_image_size[:-1],\n",
    "            batch_size=self.config.params_batch_size,\n",
    "            interpolation=\"bilinear\"\n",
    "        )\n",
    "\n",
    "        # Step 1: Create Test Generator\n",
    "        test_datagenerator = tf.keras.preprocessing.image.ImageDataGenerator(\n",
    "            rescale=1./255, validation_split=0.25\n",
    "        )\n",
    "        \n",
    "        test_generator = test_datagenerator.flow_from_directory(\n",
    "            directory=self.config.training_data, \n",
    "            subset=\"validation\",  # This will be the test set\n",
    "            shuffle=False,  \n",
    "            **dataflow_kwargs\n",
    "        )\n",
    "\n",
    "        # Step 2: Restore Attributes from Saved Test Data\n",
    "        test_generator.filenames = test_data_info.get('filenames', test_generator.filenames)\n",
    "        test_generator.classes = test_data_info.get('classes', test_generator.classes)\n",
    "        test_generator.samples = test_data_info.get('samples', test_generator.samples)\n",
    "        test_generator.batch_size = test_data_info.get('batch_size', test_generator.batch_size)\n",
    "\n",
    "        return test_generator\n",
    "    \n",
    "\n",
    "    @staticmethod \n",
    "    def load_model (path:Path) -> tf.keras.Model : \n",
    "        return tf.keras.models.load_model(path)\n",
    "    \n",
    "\n",
    "    def evaluation(self) :\n",
    "        self.model = self.load_model(self.config.path_of_model)\n",
    "        self._valid_generator = self._valid_generator()\n",
    "        self.score = self.model.evaluate(self._valid_generator)\n",
    "\n",
    "    def save_score(self) :\n",
    "        scores = {\"loss\": self.score[0], \"accuracy\": self.score[1]}\n",
    "        save_json(path=Path(\"scores.json\"), data= scores)\n",
    "     "
   ]
  },
  {
   "cell_type": "code",
   "execution_count": 10,
   "metadata": {},
   "outputs": [
    {
     "name": "stdout",
     "output_type": "stream",
     "text": [
      "[2025-02-10 16:43:08,846: INFO: common: yaml file config\\config.yaml loadded successfully]\n",
      "[2025-02-10 16:43:08,846: INFO: common: yaml file params.yaml loadded successfully]\n",
      "[2025-02-10 16:43:08,846: INFO: common: Created directory at: artifacts]\n",
      "[2025-02-10 16:43:08,846: INFO: common: Created directory at: artifacts\\test_data\\test_data.pkl]\n"
     ]
    },
    {
     "ename": "PermissionError",
     "evalue": "[Errno 13] Permission denied: 'artifacts\\\\test_data\\\\test_data.pkl'",
     "output_type": "error",
     "traceback": [
      "\u001b[1;31m---------------------------------------------------------------------------\u001b[0m",
      "\u001b[1;31mPermissionError\u001b[0m                           Traceback (most recent call last)",
      "Cell \u001b[1;32mIn[10], line 9\u001b[0m\n\u001b[0;32m      6\u001b[0m     evaluation\u001b[38;5;241m.\u001b[39msave_score()\n\u001b[0;32m      8\u001b[0m \u001b[38;5;28;01mexcept\u001b[39;00m \u001b[38;5;167;01mException\u001b[39;00m \u001b[38;5;28;01mas\u001b[39;00m e : \n\u001b[1;32m----> 9\u001b[0m     \u001b[38;5;28;01mraise\u001b[39;00m e \n",
      "Cell \u001b[1;32mIn[10], line 5\u001b[0m\n\u001b[0;32m      3\u001b[0m     test_config \u001b[38;5;241m=\u001b[39m config\u001b[38;5;241m.\u001b[39mget_evaluation_config()\n\u001b[0;32m      4\u001b[0m     evaluation \u001b[38;5;241m=\u001b[39m Evaluation(config\u001b[38;5;241m=\u001b[39mtest_config)\n\u001b[1;32m----> 5\u001b[0m     \u001b[43mevaluation\u001b[49m\u001b[38;5;241;43m.\u001b[39;49m\u001b[43mevaluation\u001b[49m\u001b[43m(\u001b[49m\u001b[43m)\u001b[49m\n\u001b[0;32m      6\u001b[0m     evaluation\u001b[38;5;241m.\u001b[39msave_score()\n\u001b[0;32m      8\u001b[0m \u001b[38;5;28;01mexcept\u001b[39;00m \u001b[38;5;167;01mException\u001b[39;00m \u001b[38;5;28;01mas\u001b[39;00m e : \n",
      "Cell \u001b[1;32mIn[9], line 46\u001b[0m, in \u001b[0;36mEvaluation.evaluation\u001b[1;34m(self)\u001b[0m\n\u001b[0;32m     44\u001b[0m \u001b[38;5;28;01mdef\u001b[39;00m\u001b[38;5;250m \u001b[39m\u001b[38;5;21mevaluation\u001b[39m(\u001b[38;5;28mself\u001b[39m) :\n\u001b[0;32m     45\u001b[0m     \u001b[38;5;28mself\u001b[39m\u001b[38;5;241m.\u001b[39mmodel \u001b[38;5;241m=\u001b[39m \u001b[38;5;28mself\u001b[39m\u001b[38;5;241m.\u001b[39mload_model(\u001b[38;5;28mself\u001b[39m\u001b[38;5;241m.\u001b[39mconfig\u001b[38;5;241m.\u001b[39mpath_of_model)\n\u001b[1;32m---> 46\u001b[0m     \u001b[38;5;28mself\u001b[39m\u001b[38;5;241m.\u001b[39m_valid_generator \u001b[38;5;241m=\u001b[39m \u001b[38;5;28;43mself\u001b[39;49m\u001b[38;5;241;43m.\u001b[39;49m\u001b[43m_valid_generator\u001b[49m\u001b[43m(\u001b[49m\u001b[43m)\u001b[49m\n\u001b[0;32m     47\u001b[0m     \u001b[38;5;28mself\u001b[39m\u001b[38;5;241m.\u001b[39mscore \u001b[38;5;241m=\u001b[39m \u001b[38;5;28mself\u001b[39m\u001b[38;5;241m.\u001b[39mmodel\u001b[38;5;241m.\u001b[39mevaluate(\u001b[38;5;28mself\u001b[39m\u001b[38;5;241m.\u001b[39m_valid_generator)\n",
      "Cell \u001b[1;32mIn[9], line 10\u001b[0m, in \u001b[0;36mEvaluation._valid_generator\u001b[1;34m(self)\u001b[0m\n\u001b[0;32m      8\u001b[0m \u001b[38;5;28;01mdef\u001b[39;00m\u001b[38;5;250m \u001b[39m\u001b[38;5;21m_valid_generator\u001b[39m(\u001b[38;5;28mself\u001b[39m):\n\u001b[0;32m      9\u001b[0m     file_path \u001b[38;5;241m=\u001b[39m \u001b[38;5;28mself\u001b[39m\u001b[38;5;241m.\u001b[39mconfig\u001b[38;5;241m.\u001b[39mtest_data_info\n\u001b[1;32m---> 10\u001b[0m     test_data_info \u001b[38;5;241m=\u001b[39m \u001b[43mload_bin\u001b[49m\u001b[43m(\u001b[49m\u001b[43mfile_path\u001b[49m\u001b[43m)\u001b[49m  \u001b[38;5;66;03m# Load test data\u001b[39;00m\n\u001b[0;32m     12\u001b[0m     dataflow_kwargs \u001b[38;5;241m=\u001b[39m \u001b[38;5;28mdict\u001b[39m(                                                 \n\u001b[0;32m     13\u001b[0m         target_size\u001b[38;5;241m=\u001b[39m\u001b[38;5;28mself\u001b[39m\u001b[38;5;241m.\u001b[39mconfig\u001b[38;5;241m.\u001b[39mparams_image_size[:\u001b[38;5;241m-\u001b[39m\u001b[38;5;241m1\u001b[39m],\n\u001b[0;32m     14\u001b[0m         batch_size\u001b[38;5;241m=\u001b[39m\u001b[38;5;28mself\u001b[39m\u001b[38;5;241m.\u001b[39mconfig\u001b[38;5;241m.\u001b[39mparams_batch_size,\n\u001b[0;32m     15\u001b[0m         interpolation\u001b[38;5;241m=\u001b[39m\u001b[38;5;124m\"\u001b[39m\u001b[38;5;124mbilinear\u001b[39m\u001b[38;5;124m\"\u001b[39m\n\u001b[0;32m     16\u001b[0m     )\n\u001b[0;32m     18\u001b[0m     \u001b[38;5;66;03m# Step 1: Create Test Generator\u001b[39;00m\n",
      "File \u001b[1;32mc:\\Users\\aamer\\miniconda3\\envs\\myenv\\lib\\site-packages\\ensure\\main.py:807\u001b[0m, in \u001b[0;36mWrappedFunction.__call__\u001b[1;34m(self, *args, **kwargs)\u001b[0m\n\u001b[0;32m    799\u001b[0m         msg \u001b[38;5;241m=\u001b[39m (\n\u001b[0;32m    800\u001b[0m             \u001b[38;5;124m\"\u001b[39m\u001b[38;5;124mArgument \u001b[39m\u001b[38;5;132;01m{arg}\u001b[39;00m\u001b[38;5;124m of type \u001b[39m\u001b[38;5;132;01m{valt}\u001b[39;00m\u001b[38;5;124m to \u001b[39m\u001b[38;5;132;01m{f}\u001b[39;00m\u001b[38;5;124m \u001b[39m\u001b[38;5;124m\"\u001b[39m\n\u001b[0;32m    801\u001b[0m             \u001b[38;5;124m\"\u001b[39m\u001b[38;5;124mdoes not match annotation type \u001b[39m\u001b[38;5;132;01m{t}\u001b[39;00m\u001b[38;5;124m\"\u001b[39m\n\u001b[0;32m    802\u001b[0m         )\n\u001b[0;32m    803\u001b[0m         \u001b[38;5;28;01mraise\u001b[39;00m EnsureError(msg\u001b[38;5;241m.\u001b[39mformat(\n\u001b[0;32m    804\u001b[0m             arg\u001b[38;5;241m=\u001b[39marg, f\u001b[38;5;241m=\u001b[39m\u001b[38;5;28mself\u001b[39m\u001b[38;5;241m.\u001b[39mf, t\u001b[38;5;241m=\u001b[39mtempl, valt\u001b[38;5;241m=\u001b[39m\u001b[38;5;28mtype\u001b[39m(value)\n\u001b[0;32m    805\u001b[0m         ))\n\u001b[1;32m--> 807\u001b[0m \u001b[38;5;28;01mreturn\u001b[39;00m \u001b[38;5;28mself\u001b[39m\u001b[38;5;241m.\u001b[39mf(\u001b[38;5;241m*\u001b[39margs, \u001b[38;5;241m*\u001b[39m\u001b[38;5;241m*\u001b[39mkwargs)\n",
      "File \u001b[1;32mc:\\users\\aamer\\onedrive\\desktop\\projects\\train2\\src\\CNNproject\\utils\\common.py:108\u001b[0m, in \u001b[0;36mload_bin\u001b[1;34m(path)\u001b[0m\n\u001b[0;32m    101\u001b[0m \u001b[38;5;129m@ensure_annotations\u001b[39m\n\u001b[0;32m    102\u001b[0m \u001b[38;5;28;01mdef\u001b[39;00m\u001b[38;5;250m \u001b[39m\u001b[38;5;21mload_bin\u001b[39m (path:Path):\n\u001b[0;32m    103\u001b[0m \u001b[38;5;250m    \u001b[39m\u001b[38;5;124;03m\"\"\"Save binary data\u001b[39;00m\n\u001b[0;32m    104\u001b[0m \u001b[38;5;124;03m    \u001b[39;00m\n\u001b[0;32m    105\u001b[0m \u001b[38;5;124;03m    Args:\u001b[39;00m\n\u001b[0;32m    106\u001b[0m \u001b[38;5;124;03m        path (str): path to binary file \u001b[39;00m\n\u001b[0;32m    107\u001b[0m \u001b[38;5;124;03m        \"\"\"\u001b[39;00m\n\u001b[1;32m--> 108\u001b[0m     \u001b[38;5;28;01mwith\u001b[39;00m \u001b[38;5;28;43mopen\u001b[39;49m\u001b[43m \u001b[49m\u001b[43m(\u001b[49m\u001b[43mpath\u001b[49m\u001b[43m,\u001b[49m\u001b[38;5;124;43m\"\u001b[39;49m\u001b[38;5;124;43mrb\u001b[39;49m\u001b[38;5;124;43m\"\u001b[39;49m\u001b[43m)\u001b[49m \u001b[38;5;28;01mas\u001b[39;00m f: \n\u001b[0;32m    109\u001b[0m         data \u001b[38;5;241m=\u001b[39m joblib\u001b[38;5;241m.\u001b[39mload(f)\n\u001b[0;32m    111\u001b[0m     logger\u001b[38;5;241m.\u001b[39minfo(\u001b[38;5;124mf\u001b[39m\u001b[38;5;124m\"\u001b[39m\u001b[38;5;124mBinary file loadded successfully from : \u001b[39m\u001b[38;5;132;01m{\u001b[39;00m[path]\u001b[38;5;132;01m}\u001b[39;00m\u001b[38;5;124m\"\u001b[39m)\n",
      "\u001b[1;31mPermissionError\u001b[0m: [Errno 13] Permission denied: 'artifacts\\\\test_data\\\\test_data.pkl'"
     ]
    }
   ],
   "source": [
    "try : \n",
    "    config= ConfigurationManager()\n",
    "    test_config = config.get_evaluation_config()\n",
    "    evaluation = Evaluation(config=test_config)\n",
    "    evaluation.evaluation()\n",
    "    evaluation.save_score()\n",
    "\n",
    "except Exception as e : \n",
    "    raise e \n"
   ]
  },
  {
   "cell_type": "code",
   "execution_count": null,
   "metadata": {},
   "outputs": [],
   "source": []
  }
 ],
 "metadata": {
  "kernelspec": {
   "display_name": "myenv",
   "language": "python",
   "name": "python3"
  },
  "language_info": {
   "codemirror_mode": {
    "name": "ipython",
    "version": 3
   },
   "file_extension": ".py",
   "mimetype": "text/x-python",
   "name": "python",
   "nbconvert_exporter": "python",
   "pygments_lexer": "ipython3",
   "version": "3.9.21"
  }
 },
 "nbformat": 4,
 "nbformat_minor": 2
}
