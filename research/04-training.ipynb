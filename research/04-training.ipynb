{
 "cells": [
  {
   "cell_type": "code",
   "execution_count": 1,
   "metadata": {},
   "outputs": [],
   "source": [
    "import os "
   ]
  },
  {
   "cell_type": "code",
   "execution_count": 2,
   "metadata": {},
   "outputs": [
    {
     "data": {
      "text/plain": [
       "'c:\\\\Users\\\\aamer\\\\OneDrive\\\\Desktop\\\\Projects\\\\train2\\\\research'"
      ]
     },
     "execution_count": 2,
     "metadata": {},
     "output_type": "execute_result"
    }
   ],
   "source": [
    "%pwd"
   ]
  },
  {
   "cell_type": "code",
   "execution_count": 3,
   "metadata": {},
   "outputs": [],
   "source": [
    "os.chdir(\"../\")"
   ]
  },
  {
   "cell_type": "code",
   "execution_count": 4,
   "metadata": {},
   "outputs": [
    {
     "data": {
      "text/plain": [
       "'c:\\\\Users\\\\aamer\\\\OneDrive\\\\Desktop\\\\Projects\\\\train2'"
      ]
     },
     "execution_count": 4,
     "metadata": {},
     "output_type": "execute_result"
    }
   ],
   "source": [
    "%pwd"
   ]
  },
  {
   "cell_type": "code",
   "execution_count": 5,
   "metadata": {},
   "outputs": [],
   "source": [
    "from dataclasses import dataclass \n",
    "from pathlib import Path\n",
    "\n",
    "@dataclass(frozen=True)\n",
    "class TrainingConfig:\n",
    "    root_dir : Path\n",
    "    trained_model_path : Path\n",
    "    updated_base_model_path : Path\n",
    "    training_data: Path\n",
    "    params_epochs : int\n",
    "    params_batch_size : int\n",
    "    params_is_augmentaion : bool \n",
    "    params_image_size : list \n",
    "\n",
    "\n",
    "@dataclass(frozen= True)\n",
    "class PrepareCallbacksConfig:\n",
    "    root_dir : Path\n",
    "    tensorboard_root_log_dir : Path\n",
    "    checkpoint_model_filepath : Path\n",
    "    \n"
   ]
  },
  {
   "cell_type": "code",
   "execution_count": 6,
   "metadata": {},
   "outputs": [],
   "source": [
    "from CNNproject.constants import * \n",
    "from CNNproject.utils.common import read_yaml, create_directories \n",
    "import tensorflow as tf "
   ]
  },
  {
   "cell_type": "code",
   "execution_count": null,
   "metadata": {},
   "outputs": [],
   "source": []
  },
  {
   "cell_type": "code",
   "execution_count": 7,
   "metadata": {},
   "outputs": [],
   "source": [
    "class ConfigManager : \n",
    "    def __init__ (self, config_filepath = CONFIG_YAML, params_filepath = PARMAS_YAML) :\n",
    "        self.config = read_yaml (config_filepath)\n",
    "        self.params = read_yaml (params_filepath)\n",
    "        create_directories([self.config.artifacts_root])\n",
    "\n",
    "    def get_prepare_callback_config (self) -> PrepareCallbacksConfig : \n",
    "        config = self.config.prepare_callbacks\n",
    "        model_ckpt_dir = os.path.dirname(config.checkpoint_model_filepath) \n",
    "        create_directories([model_ckpt_dir,\n",
    "                            Path(config.tensorboard_root_log_dir)])\n",
    "        \n",
    "        prepare_call_back_config = PrepareCallbacksConfig( \n",
    "            root_dir = Path (config.root_dir),\n",
    "            tensorboard_root_log_dir= Path(config.tensorboard_root_log_dir),\n",
    "            checkpoint_model_filepath= Path (config.checkpoint_model_filepath)\n",
    "        )\n",
    "        print(\"pass\")\n",
    "        return prepare_call_back_config\n",
    "\n",
    "\n",
    "    def get_training_config(self) -> TrainingConfig : \n",
    "        training_config = self.config.training\n",
    "        prepare_base_model = self.config.prepare_base_model\n",
    "        params = self.params\n",
    "        training_data = os.path.join(self.config.data_ingestion.unzip_dir,\"Chicken-fecal-images\")\n",
    "        create_directories ([Path(training_config.root_dir)])\n",
    "\n",
    "\n",
    "        training_config= TrainingConfig( \n",
    "        root_dir =  Path(training_config.root_dir),\n",
    "        trained_model_path = Path(training_config.trained_model_path),\n",
    "        updated_base_model_path = Path(prepare_base_model.updated_base_model_path),\n",
    "        training_data =  Path (training_data),\n",
    "        params_epochs = params.EPOCHS,\n",
    "        params_batch_size = params.BATCH_SIZE,\n",
    "        params_is_augmentaion = params.AUGMENTATION,\n",
    "        params_image_size = params.IMAGE_SIZE,\n",
    "        )\n",
    "        print(\"pass\")\n",
    "        return training_config"
   ]
  },
  {
   "cell_type": "code",
   "execution_count": 8,
   "metadata": {},
   "outputs": [],
   "source": [
    "import os \n",
    "import urllib.request as request \n",
    "from zipfile import ZipFile\n",
    "import tensorflow as tf \n",
    "import time\n",
    "\n",
    "class PrepareCallback:\n",
    "    def __init__ (self, config: PrepareCallbacksConfig) :\n",
    "        self.config = config\n",
    "\n",
    "    \n",
    "    @property\n",
    "    def _create_tb_callbacks(self): \n",
    "        timestamp = time.strftime(\"%Y-%m-%d-%H-%M-%S\")\n",
    "        tb_running_log_dir = os.path.join(\n",
    "            self.config.tensorboard_root_log_dir,\n",
    "            f\"tb_logs_at_{timestamp}\"\n",
    "        )\n",
    "        return tf.keras.callbacks.TensorBoard(log_dir = tb_running_log_dir)\n",
    "    \n",
    "\n",
    "    @property\n",
    "    def _create_ckpt_callbacks(self): \n",
    "        return tf.keras.callbacks.ModelCheckpoint( \n",
    "            filepath = self.config.checkpoint_model_filepath,\n",
    "            save_best_only = True\n",
    "        )\n",
    "    \n",
    "\n",
    "    def get_tb_ckpt_callbacks(self): \n",
    "        return (\n",
    "            [self._create_ckpt_callbacks, \n",
    "             self._create_tb_callbacks]\n",
    "        )"
   ]
  },
  {
   "cell_type": "code",
   "execution_count": 9,
   "metadata": {},
   "outputs": [],
   "source": [
    "import os \n",
    "import urllib.request as request\n",
    "from zipfile import ZipFile\n",
    "import tensorflow as tf \n",
    "import time\n",
    "from CNNproject.utils.common import create_directories\n",
    "import joblib"
   ]
  },
  {
   "cell_type": "code",
   "execution_count": null,
   "metadata": {},
   "outputs": [],
   "source": [
    "class Training: \n",
    "    def __init__(self, config: TrainingConfig) : \n",
    "        self.config = config \n",
    "        tf.config.run_functions_eagerly(True)\n",
    "        \n",
    "    def get_base_model (self) :\n",
    "        self.model = tf.keras.models.load_model(\n",
    "            self.config.updated_base_model_path\n",
    "        )\n",
    "\n",
    "    def train_valid_generator(self):\n",
    "        # General data generator parameters\n",
    "        datagenerator_kwargs = dict(rescale=1./255)\n",
    "\n",
    "        dataflow_kwargs = dict(                                                \n",
    "            target_size=self.config.params_image_size[:-1],\n",
    "            batch_size=self.config.params_batch_size,\n",
    "            interpolation=\"bilinear\"\n",
    "        )\n",
    "\n",
    "        # Step 1: Create Test Generator (20% of the dataset)\n",
    "        test_datagenerator = tf.keras.preprocessing.image.ImageDataGenerator(\n",
    "            rescale=1./255, validation_split=0.25\n",
    "        )\n",
    "        \n",
    "        self.test_generator = test_datagenerator.flow_from_directory(\n",
    "            directory=self.config.training_data, \n",
    "            subset=\"validation\",  # This will be the test set\n",
    "            shuffle=False,  \n",
    "            **dataflow_kwargs\n",
    "        )\n",
    "\n",
    "   \n",
    "\n",
    "        # Step 2: Create Training & Validation Generators (80% training, 20% validation from training)\n",
    "        train_valid_datagenerator = tf.keras.preprocessing.image.ImageDataGenerator(\n",
    "            rescale=1./255, validation_split=0.2  # 20% of training data will be used for validation\n",
    "        )\n",
    "\n",
    "        self.valid_generator = train_valid_datagenerator.flow_from_directory(\n",
    "            directory=self.config.training_data, \n",
    "            subset=\"validation\",  # Validation set (from training data)\n",
    "            shuffle=False,  \n",
    "            **dataflow_kwargs\n",
    "        )\n",
    "\n",
    "        # Step 3: Augment the Training Set\n",
    "        if self.config.params_is_augmentaion: \n",
    "            train_datagenerator = tf.keras.preprocessing.image.ImageDataGenerator( \n",
    "                rotation_range=40, \n",
    "                horizontal_flip=True, \n",
    "                width_shift_range=0.2, \n",
    "                height_shift_range=0.2, \n",
    "                shear_range=0.2, \n",
    "                zoom_range=0.2, \n",
    "                rescale=1./255, \n",
    "                validation_split=0.2  # Same split as validation\n",
    "            )\n",
    "        else:\n",
    "            train_datagenerator = train_valid_datagenerator\n",
    "\n",
    "        self.train_generator = train_datagenerator.flow_from_directory(\n",
    "            directory=self.config.training_data, \n",
    "            subset=\"training\",  # Training set\n",
    "            shuffle=True,  \n",
    "            **dataflow_kwargs\n",
    "        )\n",
    "\n",
    "\n",
    "\n",
    "\n",
    "    @staticmethod \n",
    "    def save_model(path:Path, model:tf.keras.Model):\n",
    "        model.save(path)\n",
    "\n",
    "    def train (self, callback_list: list):\n",
    "        self.steps_per_epoch = self.train_generator.samples // self.train_generator.batch_size \n",
    "        self.validation_steps = self.valid_generator.samples // self.valid_generator.batch_size\n",
    "        print(\"Training samples:\", self.train_generator.samples)\n",
    "        print(\"Validation samples:\", self.valid_generator.samples)\n",
    "        print(f\"Total test images: {self.test_generator.samples}\")\n",
    "\n",
    "        self.model.fit(\n",
    "            self.train_generator,\n",
    "            epochs=self.config.params_epochs,\n",
    "            steps_per_epoch = self.steps_per_epoch,\n",
    "            validation_steps = self.validation_steps,\n",
    "            validation_data = self.valid_generator,\n",
    "            callbacks = callback_list\n",
    "\n",
    "        )\n",
    "\n",
    "        self.save_model(\n",
    "            path = self.config.trained_model_path, \n",
    "            model =self.model \n",
    "        )\n",
    "\n",
    "    def save_test_data(self, path=\"artifacts/test_data/test_data.pkl\"):\n",
    "        # Ensure the directory exists\n",
    "        os.makedirs(os.path.dirname(path), exist_ok=True)\n",
    "\n",
    "        # Save only the necessary data from the test generator\n",
    "        test_data = {\n",
    "            'filenames': self.test_generator.filenames,\n",
    "            'classes': self.test_generator.classes,\n",
    "            'samples': self.test_generator.samples,\n",
    "            'batch_size': self.test_generator.batch_size\n",
    "            }\n",
    "\n",
    "        # Save the test data to a file\n",
    "        with open(path, \"wb\") as f:\n",
    "            joblib.dump(test_data, f)\n"
   ]
  },
  {
   "cell_type": "code",
   "execution_count": 11,
   "metadata": {},
   "outputs": [
    {
     "name": "stdout",
     "output_type": "stream",
     "text": [
      "[2025-02-10 14:12:23,241: INFO: common: yaml file config\\config.yaml loadded successfully]\n",
      "[2025-02-10 14:12:23,243: INFO: common: yaml file params.yaml loadded successfully]\n",
      "[2025-02-10 14:12:23,243: INFO: common: Created directory at: artifacts]\n",
      "[2025-02-10 14:12:23,243: INFO: common: Created directory at: artifacts/prepare_callbacks/checkpoint_dir]\n",
      "[2025-02-10 14:12:23,247: INFO: common: Created directory at: artifacts\\prepare_callbacks\\tensorboard_log_dir]\n",
      "pass\n",
      "[2025-02-10 14:12:23,251: INFO: common: Created directory at: artifacts\\training]\n",
      "pass\n",
      "Found 96 images belonging to 2 classes.\n",
      "Found 78 images belonging to 2 classes.\n",
      "Found 312 images belonging to 2 classes.\n"
     ]
    }
   ],
   "source": [
    "try : \n",
    "    config = ConfigManager()\n",
    "    prepare_callbacks_config = config.get_prepare_callback_config()\n",
    "    prepareCallbacks = PrepareCallback(config=prepare_callbacks_config)\n",
    "    callback_list = prepareCallbacks.get_tb_ckpt_callbacks()\n",
    "\n",
    "    training_config = config.get_training_config()\n",
    "    training = Training(config = training_config)\n",
    "    training.get_base_model()\n",
    "    training.train_valid_generator()\n",
    "    training.save_test_data()\n",
    "    #training.train(callback_list=callback_list)\n",
    "\n",
    "except Exception as e : \n",
    "    raise e "
   ]
  },
  {
   "cell_type": "code",
   "execution_count": null,
   "metadata": {},
   "outputs": [],
   "source": []
  }
 ],
 "metadata": {
  "kernelspec": {
   "display_name": "myenv",
   "language": "python",
   "name": "python3"
  },
  "language_info": {
   "codemirror_mode": {
    "name": "ipython",
    "version": 3
   },
   "file_extension": ".py",
   "mimetype": "text/x-python",
   "name": "python",
   "nbconvert_exporter": "python",
   "pygments_lexer": "ipython3",
   "version": "3.9.21"
  }
 },
 "nbformat": 4,
 "nbformat_minor": 2
}
